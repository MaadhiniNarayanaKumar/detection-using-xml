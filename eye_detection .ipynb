{
 "cells": [
  {
   "cell_type": "markdown",
   "id": "024f5eed",
   "metadata": {},
   "source": [
    "EYE DETECTION"
   ]
  },
  {
   "cell_type": "code",
   "execution_count": 1,
   "id": "03920b0f",
   "metadata": {},
   "outputs": [],
   "source": [
    "import cv2\n",
    "\n",
    "faceCascade = cv2.CascadeClassifier(\"C:/Users/maanu/AppData/Local/Programs/Python/Python38/Lib/site-packages/cv2/data/haarcascade_eye.xml\")\n",
    "#create face cascade\n",
    "video = cv2.VideoCapture(0)\n",
    "#capture video"
   ]
  },
  {
   "cell_type": "code",
   "execution_count": 2,
   "id": "b344bb84",
   "metadata": {},
   "outputs": [],
   "source": [
    "while True:\n",
    "    rect,frame = video.read()\n",
    "    gray = cv2.cvtColor(frame,cv2.COLOR_BGR2GRAY)\n",
    "    faces =faceCascade.detectMultiScale(gray,1.1,10)\n",
    "    #capture video frame by frame\n",
    "    \n",
    "    for x,y,w,h in faces:\n",
    "        cv2.rectangle(frame,(x,y),(x+w,y+h),(255,255,255),1)\n",
    "    # Draw a rectangle around the faces\n",
    "    \n",
    "    cv2.imshow('face',frame)# Display the resulting frame\n",
    "    \n",
    "    key = cv2.waitKey(1)\n",
    "    if key == 27: \n",
    "        break \n",
    "        #escape \n",
    "\n",
    "video.release()\n",
    "cv2.destroyAllWindows()  # When everything is done, release the capture    "
   ]
  },
  {
   "cell_type": "markdown",
   "id": "f45e6bb0",
   "metadata": {},
   "source": [
    "FOR OTHER DETECTION(hand eye fist etc)JUST CHANGE THE XML FILE"
   ]
  }
 ],
 "metadata": {
  "kernelspec": {
   "display_name": "Python 3 (ipykernel)",
   "language": "python",
   "name": "python3"
  },
  "language_info": {
   "codemirror_mode": {
    "name": "ipython",
    "version": 3
   },
   "file_extension": ".py",
   "mimetype": "text/x-python",
   "name": "python",
   "nbconvert_exporter": "python",
   "pygments_lexer": "ipython3",
   "version": "3.9.7"
  }
 },
 "nbformat": 4,
 "nbformat_minor": 5
}
